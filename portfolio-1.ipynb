{
 "cells": [
  {
   "cell_type": "markdown",
   "id": "0cd47623",
   "metadata": {},
   "source": [
    "<div style=\"text-align: center;\">\n",
    "  <img src=\"./img/logo-ipog.png\" alt=\"Logo\" width=\"200\" height=\"auto\" />\n",
    "</div>\n",
    "\n",
    "<hr style=\"border: 1px solid rgba(20, 114, 6, 1);\">\n",
    "\n",
    "<div style=\"text-align: center;\">\n",
    "  <strong style=\"font-size: 24px; rgba(20, 114, 6, 1);\">Curso: Análise de Dados para a Tomada de Decisão</strong>\n",
    "</div>\n",
    "\n",
    "<hr style=\"border: 1px solid rgba(20, 114, 6, 1);\">\n",
    "\n",
    "<div style=\"text-align: center;\">\n",
    "  <strong style=\"font-size: 20px;\">Professor: André Salerno</strong>\n",
    "</div>"
   ]
  },
  {
   "cell_type": "markdown",
   "id": "b2501078",
   "metadata": {},
   "source": [
    "<div style=\"text-align: left;\">\n",
    "  <strong>1. Quem sou</strong>\n",
    "</div>\n",
    "\n",
    "<hr style=\"border: 1px solid rgba(20, 114, 6, 1); width: 100%; margin: 5px 0;\">\n",
    "\n",
    "<div style=\"text-align: left;\">"
   ]
  },
  {
   "cell_type": "markdown",
   "id": "78322f50",
   "metadata": {},
   "source": [
    "- Ítalo-brasileiro com mais de 25 anos de experiência no mercado financeiro\n",
    "\n",
    "- Atuação em posições executivas em bancos nacionais e internacionais\n",
    "\n",
    "- Fundador da Data FinTech Solutions, empresa de consultoria focada em soluções estratégicas que envolvem finanças e tecnologia (modelagem de risco, aplicações web, business analytics, inteligência artificial, banco de dados e etc)\n",
    "\n",
    "- Também atua como professor há mais de 10 anos em renomadas escolas de negócios (FGV, FAAP, IPOG etc), tornou-se também uma importante liderança em grandes meios de comunicação (G1, Globo News, TV Vanguarda entre outros) e em palestras ministradas por ele em ambientes empresariais\n",
    "\n",
    "- Formado em Administração de Empresas, MBA Executivo em Finanças pelo Insper e Mestre em Administração de Empresas pela FGV-EAESP\n",
    "  Estudante frequente de programação orientado a finanças, economia, base de dados, inteligência artificial e aplicativos (web e mobile)\n",
    "  \n",
    "- Estudante frequente de programação orientado a finanças, economia, base de dados, inteligência artificial e aplicativos (web e mobile)\n",
    "\n",
    "\n",
    "<br>\n",
    "<div>\n",
    "  <p style=\"text-align: center;\">Me siga no LinkedIn:</p>\n",
    "    <br>\n",
    "  <img src=\"./img/qrcode.png\" alt=\"qrcode\" width=\"300\" height=\"auto\" style=\"display: block; margin: 0 auto;\">\n",
    "</div>\n",
    "<br>\n"
   ]
  },
  {
   "cell_type": "markdown",
   "id": "8fcff38b",
   "metadata": {},
   "source": [
    "<div>\n",
    "    \n",
    "</div>\n"
   ]
  },
  {
   "cell_type": "markdown",
   "id": "b0778563",
   "metadata": {},
   "source": []
  }
 ],
 "metadata": {
  "kernelspec": {
   "display_name": "Python 3",
   "language": "python",
   "name": "python3"
  },
  "language_info": {
   "codemirror_mode": {
    "name": "ipython",
    "version": 3
   },
   "file_extension": ".py",
   "mimetype": "text/x-python",
   "name": "python",
   "nbconvert_exporter": "python",
   "pygments_lexer": "ipython3",
   "version": "3.13.5"
  }
 },
 "nbformat": 4,
 "nbformat_minor": 5
}
